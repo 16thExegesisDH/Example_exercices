{
 "cells": [
  {
   "cell_type": "code",
   "execution_count": 1,
   "id": "c1adf748-13b3-4614-afa9-a094c3c99eff",
   "metadata": {},
   "outputs": [
    {
     "ename": "SyntaxError",
     "evalue": "invalid syntax (195185901.py, line 3)",
     "output_type": "error",
     "traceback": [
      "\u001b[0;36m  Cell \u001b[0;32mIn[1], line 3\u001b[0;36m\u001b[0m\n\u001b[0;31m    here is a synthesis of the pipeline propose by:\u001b[0m\n\u001b[0m              ^\u001b[0m\n\u001b[0;31mSyntaxError\u001b[0m\u001b[0;31m:\u001b[0m invalid syntax\n"
     ]
    }
   ],
   "source": [
    "# Conversion : ALTO/tei to XML/tei \n",
    "\n",
    "here is a synthesis of the pipeline propose by: \n",
    "\n",
    "Simon Gabay, Pierre Kuenzli, Jean-Luc Flacone, Christophe Charpilloz, FoNDUE: Documentation, University of Geneva, 2022, https://github.com/fonDUE-HTR/Documentation."
   ]
  },
  {
   "cell_type": "markdown",
   "id": "0dd15d90-95da-44cb-8420-1ce65bcb193c",
   "metadata": {},
   "source": [
    "### install python dependances\n",
    "for python 3.8 you need Yaltai and some torch modules"
   ]
  },
  {
   "cell_type": "code",
   "execution_count": 2,
   "id": "6a0e8d90-4ed3-434c-b449-e26969850ec4",
   "metadata": {},
   "outputs": [
    {
     "name": "stdout",
     "output_type": "stream",
     "text": [
      "Python 3.9.20\n"
     ]
    }
   ],
   "source": [
    "!python --version"
   ]
  },
  {
   "cell_type": "code",
   "execution_count": 3,
   "id": "d9cdc6fa-a658-4596-98b9-548f4b388e14",
   "metadata": {},
   "outputs": [
    {
     "name": "stdout",
     "output_type": "stream",
     "text": [
      "Requirement already satisfied: YALTAi in /home/floriane/Documents/visual_code/.lem3.9/lib/python3.9/site-packages (2.0.5)\n",
      "Requirement already satisfied: fast-deskew==1.0 in /home/floriane/Documents/visual_code/.lem3.9/lib/python3.9/site-packages (from YALTAi) (1.0)\n",
      "Requirement already satisfied: kraken~=5.3.0 in /home/floriane/Documents/visual_code/.lem3.9/lib/python3.9/site-packages (from YALTAi) (5.3.0)\n",
      "Requirement already satisfied: mean-average-precision==2021.4.26.0 in /home/floriane/Documents/visual_code/.lem3.9/lib/python3.9/site-packages (from YALTAi) (2021.4.26.0)\n",
      "Requirement already satisfied: tabulate~=0.8.10 in /home/floriane/Documents/visual_code/.lem3.9/lib/python3.9/site-packages (from YALTAi) (0.8.10)\n",
      "Requirement already satisfied: ultralytics~=8.3.0 in /home/floriane/Documents/visual_code/.lem3.9/lib/python3.9/site-packages (from YALTAi) (8.3.110)\n",
      "Requirement already satisfied: numpy in /home/floriane/Documents/visual_code/.lem3.9/lib/python3.9/site-packages (from mean-average-precision==2021.4.26.0->YALTAi) (2.0.2)\n",
      "Requirement already satisfied: pandas in /home/floriane/Documents/visual_code/.lem3.9/lib/python3.9/site-packages (from mean-average-precision==2021.4.26.0->YALTAi) (2.2.3)\n",
      "Requirement already satisfied: jsonschema in /home/floriane/Documents/visual_code/.lem3.9/lib/python3.9/site-packages (from kraken~=5.3.0->YALTAi) (4.23.0)\n",
      "Requirement already satisfied: lxml in /home/floriane/Documents/visual_code/.lem3.9/lib/python3.9/site-packages (from kraken~=5.3.0->YALTAi) (5.3.2)\n",
      "Requirement already satisfied: requests in /home/floriane/Documents/visual_code/.lem3.9/lib/python3.9/site-packages (from kraken~=5.3.0->YALTAi) (2.32.3)\n",
      "Requirement already satisfied: click>=8.1 in /home/floriane/Documents/visual_code/.lem3.9/lib/python3.9/site-packages (from kraken~=5.3.0->YALTAi) (8.1.8)\n",
      "Requirement already satisfied: Pillow>=9.2.0 in /home/floriane/Documents/visual_code/.lem3.9/lib/python3.9/site-packages (from kraken~=5.3.0->YALTAi) (11.2.1)\n",
      "Requirement already satisfied: regex in /home/floriane/Documents/visual_code/.lem3.9/lib/python3.9/site-packages (from kraken~=5.3.0->YALTAi) (2024.11.6)\n",
      "Requirement already satisfied: scipy~=1.13.0 in /home/floriane/Documents/visual_code/.lem3.9/lib/python3.9/site-packages (from kraken~=5.3.0->YALTAi) (1.13.1)\n",
      "Requirement already satisfied: protobuf>=3.0.0 in /home/floriane/Documents/visual_code/.lem3.9/lib/python3.9/site-packages (from kraken~=5.3.0->YALTAi) (6.30.1)\n",
      "Requirement already satisfied: coremltools~=8.1 in /home/floriane/Documents/visual_code/.lem3.9/lib/python3.9/site-packages (from kraken~=5.3.0->YALTAi) (8.2)\n",
      "Requirement already satisfied: jinja2~=3.0 in /home/floriane/Documents/visual_code/.lem3.9/lib/python3.9/site-packages (from kraken~=5.3.0->YALTAi) (3.1.6)\n",
      "Requirement already satisfied: python-bidi~=0.6.0 in /home/floriane/Documents/visual_code/.lem3.9/lib/python3.9/site-packages (from kraken~=5.3.0->YALTAi) (0.6.6)\n",
      "Requirement already satisfied: torchvision>=0.5.0 in /home/floriane/Documents/visual_code/.lem3.9/lib/python3.9/site-packages (from kraken~=5.3.0->YALTAi) (0.15.2+cu117)\n",
      "Collecting torch~=2.4.0 (from kraken~=5.3.0->YALTAi)\n",
      "  Using cached torch-2.4.1-cp39-cp39-manylinux1_x86_64.whl.metadata (26 kB)\n",
      "Requirement already satisfied: scikit-learn~=1.5.0 in /home/floriane/Documents/visual_code/.lem3.9/lib/python3.9/site-packages (from kraken~=5.3.0->YALTAi) (1.5.2)\n",
      "Requirement already satisfied: scikit-image~=0.24.0 in /home/floriane/Documents/visual_code/.lem3.9/lib/python3.9/site-packages (from kraken~=5.3.0->YALTAi) (0.24.0)\n",
      "Requirement already satisfied: shapely>=2.0.6,~=2.0.6 in /home/floriane/Documents/visual_code/.lem3.9/lib/python3.9/site-packages (from kraken~=5.3.0->YALTAi) (2.0.7)\n",
      "Requirement already satisfied: pyarrow in /home/floriane/Documents/visual_code/.lem3.9/lib/python3.9/site-packages (from kraken~=5.3.0->YALTAi) (19.0.1)\n",
      "Requirement already satisfied: lightning~=2.4.0 in /home/floriane/Documents/visual_code/.lem3.9/lib/python3.9/site-packages (from kraken~=5.3.0->YALTAi) (2.4.0)\n",
      "Requirement already satisfied: torchmetrics>=1.1.0 in /home/floriane/Documents/visual_code/.lem3.9/lib/python3.9/site-packages (from kraken~=5.3.0->YALTAi) (1.7.1)\n",
      "Requirement already satisfied: threadpoolctl~=3.5.0 in /home/floriane/Documents/visual_code/.lem3.9/lib/python3.9/site-packages (from kraken~=5.3.0->YALTAi) (3.5.0)\n",
      "Requirement already satisfied: importlib-resources>=1.3.0 in /home/floriane/Documents/visual_code/.lem3.9/lib/python3.9/site-packages (from kraken~=5.3.0->YALTAi) (6.5.2)\n",
      "Requirement already satisfied: rich in /home/floriane/Documents/visual_code/.lem3.9/lib/python3.9/site-packages (from kraken~=5.3.0->YALTAi) (13.9.4)\n",
      "Requirement already satisfied: matplotlib>=3.3.0 in /home/floriane/Documents/visual_code/.lem3.9/lib/python3.9/site-packages (from ultralytics~=8.3.0->YALTAi) (3.9.4)\n",
      "Requirement already satisfied: opencv-python>=4.6.0 in /home/floriane/Documents/visual_code/.lem3.9/lib/python3.9/site-packages (from ultralytics~=8.3.0->YALTAi) (4.11.0.86)\n",
      "Requirement already satisfied: pyyaml>=5.3.1 in /home/floriane/Documents/visual_code/.lem3.9/lib/python3.9/site-packages (from ultralytics~=8.3.0->YALTAi) (6.0.2)\n",
      "Requirement already satisfied: tqdm>=4.64.0 in /home/floriane/Documents/visual_code/.lem3.9/lib/python3.9/site-packages (from ultralytics~=8.3.0->YALTAi) (4.67.1)\n",
      "Requirement already satisfied: psutil in /home/floriane/Documents/visual_code/.lem3.9/lib/python3.9/site-packages (from ultralytics~=8.3.0->YALTAi) (7.0.0)\n",
      "Requirement already satisfied: py-cpuinfo in /home/floriane/Documents/visual_code/.lem3.9/lib/python3.9/site-packages (from ultralytics~=8.3.0->YALTAi) (9.0.0)\n",
      "Requirement already satisfied: seaborn>=0.11.0 in /home/floriane/Documents/visual_code/.lem3.9/lib/python3.9/site-packages (from ultralytics~=8.3.0->YALTAi) (0.13.2)\n",
      "Requirement already satisfied: ultralytics-thop>=2.0.0 in /home/floriane/Documents/visual_code/.lem3.9/lib/python3.9/site-packages (from ultralytics~=8.3.0->YALTAi) (2.0.14)\n",
      "Requirement already satisfied: sympy in /home/floriane/Documents/visual_code/.lem3.9/lib/python3.9/site-packages (from coremltools~=8.1->kraken~=5.3.0->YALTAi) (1.13.1)\n",
      "Requirement already satisfied: packaging in /home/floriane/Documents/visual_code/.lem3.9/lib/python3.9/site-packages (from coremltools~=8.1->kraken~=5.3.0->YALTAi) (24.2)\n",
      "Requirement already satisfied: attrs>=21.3.0 in /home/floriane/Documents/visual_code/.lem3.9/lib/python3.9/site-packages (from coremltools~=8.1->kraken~=5.3.0->YALTAi) (25.3.0)\n",
      "Requirement already satisfied: cattrs in /home/floriane/Documents/visual_code/.lem3.9/lib/python3.9/site-packages (from coremltools~=8.1->kraken~=5.3.0->YALTAi) (24.1.3)\n",
      "Requirement already satisfied: pyaml in /home/floriane/Documents/visual_code/.lem3.9/lib/python3.9/site-packages (from coremltools~=8.1->kraken~=5.3.0->YALTAi) (25.1.0)\n",
      "Requirement already satisfied: zipp>=3.1.0 in /home/floriane/Documents/visual_code/.lem3.9/lib/python3.9/site-packages (from importlib-resources>=1.3.0->kraken~=5.3.0->YALTAi) (3.21.0)\n",
      "Requirement already satisfied: MarkupSafe>=2.0 in /home/floriane/Documents/visual_code/.lem3.9/lib/python3.9/site-packages (from jinja2~=3.0->kraken~=5.3.0->YALTAi) (3.0.2)\n",
      "Requirement already satisfied: fsspec<2026.0,>=2022.5.0 in /home/floriane/Documents/visual_code/.lem3.9/lib/python3.9/site-packages (from fsspec[http]<2026.0,>=2022.5.0->lightning~=2.4.0->kraken~=5.3.0->YALTAi) (2025.3.0)\n",
      "Requirement already satisfied: lightning-utilities<2.0,>=0.10.0 in /home/floriane/Documents/visual_code/.lem3.9/lib/python3.9/site-packages (from lightning~=2.4.0->kraken~=5.3.0->YALTAi) (0.14.3)\n",
      "Requirement already satisfied: typing-extensions<6.0,>=4.4.0 in /home/floriane/Documents/visual_code/.lem3.9/lib/python3.9/site-packages (from lightning~=2.4.0->kraken~=5.3.0->YALTAi) (4.12.2)\n",
      "Requirement already satisfied: pytorch-lightning in /home/floriane/Documents/visual_code/.lem3.9/lib/python3.9/site-packages (from lightning~=2.4.0->kraken~=5.3.0->YALTAi) (2.5.1)\n",
      "Requirement already satisfied: contourpy>=1.0.1 in /home/floriane/Documents/visual_code/.lem3.9/lib/python3.9/site-packages (from matplotlib>=3.3.0->ultralytics~=8.3.0->YALTAi) (1.3.0)\n",
      "Requirement already satisfied: cycler>=0.10 in /home/floriane/Documents/visual_code/.lem3.9/lib/python3.9/site-packages (from matplotlib>=3.3.0->ultralytics~=8.3.0->YALTAi) (0.12.1)\n",
      "Requirement already satisfied: fonttools>=4.22.0 in /home/floriane/Documents/visual_code/.lem3.9/lib/python3.9/site-packages (from matplotlib>=3.3.0->ultralytics~=8.3.0->YALTAi) (4.57.0)\n",
      "Requirement already satisfied: kiwisolver>=1.3.1 in /home/floriane/Documents/visual_code/.lem3.9/lib/python3.9/site-packages (from matplotlib>=3.3.0->ultralytics~=8.3.0->YALTAi) (1.4.7)\n",
      "Requirement already satisfied: pyparsing>=2.3.1 in /home/floriane/Documents/visual_code/.lem3.9/lib/python3.9/site-packages (from matplotlib>=3.3.0->ultralytics~=8.3.0->YALTAi) (3.2.3)\n",
      "Requirement already satisfied: python-dateutil>=2.7 in /home/floriane/Documents/visual_code/.lem3.9/lib/python3.9/site-packages (from matplotlib>=3.3.0->ultralytics~=8.3.0->YALTAi) (2.9.0.post0)\n",
      "Requirement already satisfied: pytz>=2020.1 in /home/floriane/Documents/visual_code/.lem3.9/lib/python3.9/site-packages (from pandas->mean-average-precision==2021.4.26.0->YALTAi) (2025.2)\n",
      "Requirement already satisfied: tzdata>=2022.7 in /home/floriane/Documents/visual_code/.lem3.9/lib/python3.9/site-packages (from pandas->mean-average-precision==2021.4.26.0->YALTAi) (2025.2)\n",
      "Requirement already satisfied: charset-normalizer<4,>=2 in /home/floriane/Documents/visual_code/.lem3.9/lib/python3.9/site-packages (from requests->kraken~=5.3.0->YALTAi) (3.4.1)\n",
      "Requirement already satisfied: idna<4,>=2.5 in /home/floriane/Documents/visual_code/.lem3.9/lib/python3.9/site-packages (from requests->kraken~=5.3.0->YALTAi) (3.10)\n",
      "Requirement already satisfied: urllib3<3,>=1.21.1 in /home/floriane/Documents/visual_code/.lem3.9/lib/python3.9/site-packages (from requests->kraken~=5.3.0->YALTAi) (2.3.0)\n",
      "Requirement already satisfied: certifi>=2017.4.17 in /home/floriane/Documents/visual_code/.lem3.9/lib/python3.9/site-packages (from requests->kraken~=5.3.0->YALTAi) (2025.1.31)\n",
      "Requirement already satisfied: networkx>=2.8 in /home/floriane/Documents/visual_code/.lem3.9/lib/python3.9/site-packages (from scikit-image~=0.24.0->kraken~=5.3.0->YALTAi) (3.2.1)\n",
      "Requirement already satisfied: imageio>=2.33 in /home/floriane/Documents/visual_code/.lem3.9/lib/python3.9/site-packages (from scikit-image~=0.24.0->kraken~=5.3.0->YALTAi) (2.37.0)\n",
      "Requirement already satisfied: tifffile>=2022.8.12 in /home/floriane/Documents/visual_code/.lem3.9/lib/python3.9/site-packages (from scikit-image~=0.24.0->kraken~=5.3.0->YALTAi) (2024.8.30)\n",
      "Requirement already satisfied: lazy-loader>=0.4 in /home/floriane/Documents/visual_code/.lem3.9/lib/python3.9/site-packages (from scikit-image~=0.24.0->kraken~=5.3.0->YALTAi) (0.4)\n",
      "Requirement already satisfied: joblib>=1.2.0 in /home/floriane/Documents/visual_code/.lem3.9/lib/python3.9/site-packages (from scikit-learn~=1.5.0->kraken~=5.3.0->YALTAi) (1.4.2)\n",
      "Requirement already satisfied: filelock in /home/floriane/Documents/visual_code/.lem3.9/lib/python3.9/site-packages (from torch~=2.4.0->kraken~=5.3.0->YALTAi) (3.18.0)\n",
      "Requirement already satisfied: nvidia-cuda-nvrtc-cu12==12.1.105 in /home/floriane/Documents/visual_code/.lem3.9/lib/python3.9/site-packages (from torch~=2.4.0->kraken~=5.3.0->YALTAi) (12.1.105)\n",
      "Requirement already satisfied: nvidia-cuda-runtime-cu12==12.1.105 in /home/floriane/Documents/visual_code/.lem3.9/lib/python3.9/site-packages (from torch~=2.4.0->kraken~=5.3.0->YALTAi) (12.1.105)\n",
      "Requirement already satisfied: nvidia-cuda-cupti-cu12==12.1.105 in /home/floriane/Documents/visual_code/.lem3.9/lib/python3.9/site-packages (from torch~=2.4.0->kraken~=5.3.0->YALTAi) (12.1.105)\n",
      "Requirement already satisfied: nvidia-cudnn-cu12==9.1.0.70 in /home/floriane/Documents/visual_code/.lem3.9/lib/python3.9/site-packages (from torch~=2.4.0->kraken~=5.3.0->YALTAi) (9.1.0.70)\n",
      "Requirement already satisfied: nvidia-cublas-cu12==12.1.3.1 in /home/floriane/Documents/visual_code/.lem3.9/lib/python3.9/site-packages (from torch~=2.4.0->kraken~=5.3.0->YALTAi) (12.1.3.1)\n",
      "Requirement already satisfied: nvidia-cufft-cu12==11.0.2.54 in /home/floriane/Documents/visual_code/.lem3.9/lib/python3.9/site-packages (from torch~=2.4.0->kraken~=5.3.0->YALTAi) (11.0.2.54)\n",
      "Requirement already satisfied: nvidia-curand-cu12==10.3.2.106 in /home/floriane/Documents/visual_code/.lem3.9/lib/python3.9/site-packages (from torch~=2.4.0->kraken~=5.3.0->YALTAi) (10.3.2.106)\n",
      "Requirement already satisfied: nvidia-cusolver-cu12==11.4.5.107 in /home/floriane/Documents/visual_code/.lem3.9/lib/python3.9/site-packages (from torch~=2.4.0->kraken~=5.3.0->YALTAi) (11.4.5.107)\n",
      "Requirement already satisfied: nvidia-cusparse-cu12==12.1.0.106 in /home/floriane/Documents/visual_code/.lem3.9/lib/python3.9/site-packages (from torch~=2.4.0->kraken~=5.3.0->YALTAi) (12.1.0.106)\n",
      "Requirement already satisfied: nvidia-nccl-cu12==2.20.5 in /home/floriane/Documents/visual_code/.lem3.9/lib/python3.9/site-packages (from torch~=2.4.0->kraken~=5.3.0->YALTAi) (2.20.5)\n",
      "Requirement already satisfied: nvidia-nvtx-cu12==12.1.105 in /home/floriane/Documents/visual_code/.lem3.9/lib/python3.9/site-packages (from torch~=2.4.0->kraken~=5.3.0->YALTAi) (12.1.105)\n",
      "Collecting triton==3.0.0 (from torch~=2.4.0->kraken~=5.3.0->YALTAi)\n",
      "  Using cached triton-3.0.0-1-cp39-cp39-manylinux2014_x86_64.manylinux_2_17_x86_64.whl.metadata (1.3 kB)\n",
      "Requirement already satisfied: nvidia-nvjitlink-cu12 in /home/floriane/Documents/visual_code/.lem3.9/lib/python3.9/site-packages (from nvidia-cusolver-cu12==11.4.5.107->torch~=2.4.0->kraken~=5.3.0->YALTAi) (12.4.127)\n",
      "INFO: pip is looking at multiple versions of torchvision to determine which version is compatible with other requirements. This could take a while.\n",
      "Collecting torchvision>=0.5.0 (from kraken~=5.3.0->YALTAi)\n",
      "  Downloading torchvision-0.22.0-cp39-cp39-manylinux_2_28_x86_64.whl.metadata (6.1 kB)\n",
      "  Using cached torchvision-0.21.0-cp39-cp39-manylinux1_x86_64.whl.metadata (6.1 kB)\n",
      "  Using cached torchvision-0.20.1-cp39-cp39-manylinux1_x86_64.whl.metadata (6.1 kB)\n",
      "  Using cached torchvision-0.20.0-cp39-cp39-manylinux1_x86_64.whl.metadata (6.1 kB)\n",
      "  Using cached torchvision-0.19.1-cp39-cp39-manylinux1_x86_64.whl.metadata (6.0 kB)\n",
      "Requirement already satisfied: jsonschema-specifications>=2023.03.6 in /home/floriane/Documents/visual_code/.lem3.9/lib/python3.9/site-packages (from jsonschema->kraken~=5.3.0->YALTAi) (2024.10.1)\n",
      "Requirement already satisfied: referencing>=0.28.4 in /home/floriane/Documents/visual_code/.lem3.9/lib/python3.9/site-packages (from jsonschema->kraken~=5.3.0->YALTAi) (0.36.2)\n",
      "Requirement already satisfied: rpds-py>=0.7.1 in /home/floriane/Documents/visual_code/.lem3.9/lib/python3.9/site-packages (from jsonschema->kraken~=5.3.0->YALTAi) (0.23.1)\n",
      "Requirement already satisfied: markdown-it-py>=2.2.0 in /home/floriane/Documents/visual_code/.lem3.9/lib/python3.9/site-packages (from rich->kraken~=5.3.0->YALTAi) (3.0.0)\n",
      "Requirement already satisfied: pygments<3.0.0,>=2.13.0 in /home/floriane/Documents/visual_code/.lem3.9/lib/python3.9/site-packages (from rich->kraken~=5.3.0->YALTAi) (2.19.1)\n",
      "Requirement already satisfied: aiohttp!=4.0.0a0,!=4.0.0a1 in /home/floriane/Documents/visual_code/.lem3.9/lib/python3.9/site-packages (from fsspec[http]<2026.0,>=2022.5.0->lightning~=2.4.0->kraken~=5.3.0->YALTAi) (3.11.16)\n",
      "Requirement already satisfied: setuptools in /home/floriane/Documents/visual_code/.lem3.9/lib/python3.9/site-packages (from lightning-utilities<2.0,>=0.10.0->lightning~=2.4.0->kraken~=5.3.0->YALTAi) (75.8.0)\n",
      "Requirement already satisfied: mdurl~=0.1 in /home/floriane/Documents/visual_code/.lem3.9/lib/python3.9/site-packages (from markdown-it-py>=2.2.0->rich->kraken~=5.3.0->YALTAi) (0.1.2)\n",
      "Requirement already satisfied: six>=1.5 in /home/floriane/Documents/visual_code/.lem3.9/lib/python3.9/site-packages (from python-dateutil>=2.7->matplotlib>=3.3.0->ultralytics~=8.3.0->YALTAi) (1.17.0)\n",
      "Requirement already satisfied: exceptiongroup>=1.1.1 in /home/floriane/Documents/visual_code/.lem3.9/lib/python3.9/site-packages (from cattrs->coremltools~=8.1->kraken~=5.3.0->YALTAi) (1.2.2)\n",
      "Requirement already satisfied: mpmath<1.4,>=1.1.0 in /home/floriane/Documents/visual_code/.lem3.9/lib/python3.9/site-packages (from sympy->coremltools~=8.1->kraken~=5.3.0->YALTAi) (1.3.0)\n",
      "Requirement already satisfied: aiohappyeyeballs>=2.3.0 in /home/floriane/Documents/visual_code/.lem3.9/lib/python3.9/site-packages (from aiohttp!=4.0.0a0,!=4.0.0a1->fsspec[http]<2026.0,>=2022.5.0->lightning~=2.4.0->kraken~=5.3.0->YALTAi) (2.6.1)\n",
      "Requirement already satisfied: aiosignal>=1.1.2 in /home/floriane/Documents/visual_code/.lem3.9/lib/python3.9/site-packages (from aiohttp!=4.0.0a0,!=4.0.0a1->fsspec[http]<2026.0,>=2022.5.0->lightning~=2.4.0->kraken~=5.3.0->YALTAi) (1.3.2)\n",
      "Requirement already satisfied: async-timeout<6.0,>=4.0 in /home/floriane/Documents/visual_code/.lem3.9/lib/python3.9/site-packages (from aiohttp!=4.0.0a0,!=4.0.0a1->fsspec[http]<2026.0,>=2022.5.0->lightning~=2.4.0->kraken~=5.3.0->YALTAi) (5.0.1)\n",
      "Requirement already satisfied: frozenlist>=1.1.1 in /home/floriane/Documents/visual_code/.lem3.9/lib/python3.9/site-packages (from aiohttp!=4.0.0a0,!=4.0.0a1->fsspec[http]<2026.0,>=2022.5.0->lightning~=2.4.0->kraken~=5.3.0->YALTAi) (1.5.0)\n",
      "Requirement already satisfied: multidict<7.0,>=4.5 in /home/floriane/Documents/visual_code/.lem3.9/lib/python3.9/site-packages (from aiohttp!=4.0.0a0,!=4.0.0a1->fsspec[http]<2026.0,>=2022.5.0->lightning~=2.4.0->kraken~=5.3.0->YALTAi) (6.4.3)\n",
      "Requirement already satisfied: propcache>=0.2.0 in /home/floriane/Documents/visual_code/.lem3.9/lib/python3.9/site-packages (from aiohttp!=4.0.0a0,!=4.0.0a1->fsspec[http]<2026.0,>=2022.5.0->lightning~=2.4.0->kraken~=5.3.0->YALTAi) (0.3.1)\n",
      "Requirement already satisfied: yarl<2.0,>=1.17.0 in /home/floriane/Documents/visual_code/.lem3.9/lib/python3.9/site-packages (from aiohttp!=4.0.0a0,!=4.0.0a1->fsspec[http]<2026.0,>=2022.5.0->lightning~=2.4.0->kraken~=5.3.0->YALTAi) (1.20.0)\n",
      "Using cached torch-2.4.1-cp39-cp39-manylinux1_x86_64.whl (797.1 MB)\n",
      "Using cached triton-3.0.0-1-cp39-cp39-manylinux2014_x86_64.manylinux_2_17_x86_64.whl (209.4 MB)\n",
      "Using cached torchvision-0.19.1-cp39-cp39-manylinux1_x86_64.whl (7.0 MB)\n",
      "Installing collected packages: triton, torch, torchvision\n",
      "  Attempting uninstall: triton\n",
      "    Found existing installation: triton 2.0.0\n",
      "    Uninstalling triton-2.0.0:\n",
      "      Successfully uninstalled triton-2.0.0\n",
      "  Attempting uninstall: torch\n",
      "    Found existing installation: torch 2.0.1+cu117\n",
      "    Uninstalling torch-2.0.1+cu117:\n",
      "      Successfully uninstalled torch-2.0.1+cu117\n",
      "  Attempting uninstall: torchvision\n",
      "    Found existing installation: torchvision 0.15.2+cu117\n",
      "    Uninstalling torchvision-0.15.2+cu117:\n",
      "      Successfully uninstalled torchvision-0.15.2+cu117\n",
      "\u001b[31mERROR: pip's dependency resolver does not currently take into account all the packages that are installed. This behaviour is the source of the following dependency conflicts.\n",
      "cltk 1.4.0 requires scipy<1.13.0, but you have scipy 1.13.1 which is incompatible.\n",
      "torchaudio 2.0.2+cu117 requires torch==2.0.1, but you have torch 2.4.1 which is incompatible.\n",
      "torchdata 0.6.1 requires torch==2.0.1, but you have torch 2.4.1 which is incompatible.\n",
      "torchtext 0.15.2+cpu requires torch==2.0.1, but you have torch 2.4.1 which is incompatible.\u001b[0m\u001b[31m\n",
      "\u001b[0mSuccessfully installed torch-2.4.1 torchvision-0.19.1 triton-3.0.0\n",
      "\n",
      "\u001b[1m[\u001b[0m\u001b[34;49mnotice\u001b[0m\u001b[1;39;49m]\u001b[0m\u001b[39;49m A new release of pip is available: \u001b[0m\u001b[31;49m25.0.1\u001b[0m\u001b[39;49m -> \u001b[0m\u001b[32;49m25.1.1\u001b[0m\n",
      "\u001b[1m[\u001b[0m\u001b[34;49mnotice\u001b[0m\u001b[1;39;49m]\u001b[0m\u001b[39;49m To update, run: \u001b[0m\u001b[32;49mpip install --upgrade pip\u001b[0m\n"
     ]
    }
   ],
   "source": [
    "!pip install YALTAi"
   ]
  },
  {
   "cell_type": "code",
   "execution_count": 4,
   "id": "656a9a1b-58c6-47fa-a79a-6dfbb147fb60",
   "metadata": {
    "scrolled": true
   },
   "outputs": [
    {
     "name": "stdout",
     "output_type": "stream",
     "text": [
      "Looking in indexes: https://download.pytorch.org/whl/cu117\n",
      "Collecting torch==2.0.1\n",
      "  Using cached https://download.pytorch.org/whl/cu117/torch-2.0.1%2Bcu117-cp39-cp39-linux_x86_64.whl (1843.9 MB)\n",
      "Collecting torchvision==0.15.2\n",
      "  Using cached https://download.pytorch.org/whl/cu117/torchvision-0.15.2%2Bcu117-cp39-cp39-linux_x86_64.whl (6.1 MB)\n",
      "Requirement already satisfied: torchaudio==2.0.2 in /home/floriane/Documents/visual_code/.lem3.9/lib/python3.9/site-packages (2.0.2+cu117)\n",
      "Requirement already satisfied: torchtext==0.15.2 in /home/floriane/Documents/visual_code/.lem3.9/lib/python3.9/site-packages (0.15.2+cpu)\n",
      "Requirement already satisfied: torchdata==0.6.1 in /home/floriane/Documents/visual_code/.lem3.9/lib/python3.9/site-packages (0.6.1)\n",
      "Requirement already satisfied: filelock in /home/floriane/Documents/visual_code/.lem3.9/lib/python3.9/site-packages (from torch==2.0.1) (3.18.0)\n",
      "Requirement already satisfied: typing-extensions in /home/floriane/Documents/visual_code/.lem3.9/lib/python3.9/site-packages (from torch==2.0.1) (4.12.2)\n",
      "Requirement already satisfied: sympy in /home/floriane/Documents/visual_code/.lem3.9/lib/python3.9/site-packages (from torch==2.0.1) (1.13.1)\n",
      "Requirement already satisfied: networkx in /home/floriane/Documents/visual_code/.lem3.9/lib/python3.9/site-packages (from torch==2.0.1) (3.2.1)\n",
      "Requirement already satisfied: jinja2 in /home/floriane/Documents/visual_code/.lem3.9/lib/python3.9/site-packages (from torch==2.0.1) (3.1.6)\n",
      "Collecting triton==2.0.0 (from torch==2.0.1)\n",
      "  Using cached https://download.pytorch.org/whl/triton-2.0.0-1-cp39-cp39-manylinux2014_x86_64.manylinux_2_17_x86_64.whl (63.3 MB)\n",
      "Requirement already satisfied: numpy in /home/floriane/Documents/visual_code/.lem3.9/lib/python3.9/site-packages (from torchvision==0.15.2) (2.0.2)\n",
      "Requirement already satisfied: requests in /home/floriane/Documents/visual_code/.lem3.9/lib/python3.9/site-packages (from torchvision==0.15.2) (2.32.3)\n",
      "Requirement already satisfied: pillow!=8.3.*,>=5.3.0 in /home/floriane/Documents/visual_code/.lem3.9/lib/python3.9/site-packages (from torchvision==0.15.2) (11.2.1)\n",
      "Requirement already satisfied: tqdm in /home/floriane/Documents/visual_code/.lem3.9/lib/python3.9/site-packages (from torchtext==0.15.2) (4.67.1)\n",
      "Requirement already satisfied: urllib3>=1.25 in /home/floriane/Documents/visual_code/.lem3.9/lib/python3.9/site-packages (from torchdata==0.6.1) (2.3.0)\n",
      "Requirement already satisfied: cmake in /home/floriane/Documents/visual_code/.lem3.9/lib/python3.9/site-packages (from triton==2.0.0->torch==2.0.1) (3.25.0)\n",
      "Requirement already satisfied: lit in /home/floriane/Documents/visual_code/.lem3.9/lib/python3.9/site-packages (from triton==2.0.0->torch==2.0.1) (15.0.7)\n",
      "Requirement already satisfied: MarkupSafe>=2.0 in /home/floriane/Documents/visual_code/.lem3.9/lib/python3.9/site-packages (from jinja2->torch==2.0.1) (3.0.2)\n",
      "Requirement already satisfied: charset-normalizer<4,>=2 in /home/floriane/Documents/visual_code/.lem3.9/lib/python3.9/site-packages (from requests->torchvision==0.15.2) (3.4.1)\n",
      "Requirement already satisfied: idna<4,>=2.5 in /home/floriane/Documents/visual_code/.lem3.9/lib/python3.9/site-packages (from requests->torchvision==0.15.2) (3.10)\n",
      "Requirement already satisfied: certifi>=2017.4.17 in /home/floriane/Documents/visual_code/.lem3.9/lib/python3.9/site-packages (from requests->torchvision==0.15.2) (2025.1.31)\n",
      "Requirement already satisfied: mpmath<1.4,>=1.1.0 in /home/floriane/Documents/visual_code/.lem3.9/lib/python3.9/site-packages (from sympy->torch==2.0.1) (1.3.0)\n",
      "Installing collected packages: triton, torch, torchvision\n",
      "  Attempting uninstall: triton\n",
      "    Found existing installation: triton 3.0.0\n",
      "    Uninstalling triton-3.0.0:\n",
      "      Successfully uninstalled triton-3.0.0\n",
      "  Attempting uninstall: torch\n",
      "    Found existing installation: torch 2.4.1\n",
      "    Uninstalling torch-2.4.1:\n",
      "      Successfully uninstalled torch-2.4.1\n",
      "  Attempting uninstall: torchvision\n",
      "    Found existing installation: torchvision 0.19.1\n",
      "    Uninstalling torchvision-0.19.1:\n",
      "      Successfully uninstalled torchvision-0.19.1\n",
      "\u001b[31mERROR: pip's dependency resolver does not currently take into account all the packages that are installed. This behaviour is the source of the following dependency conflicts.\n",
      "cltk 1.4.0 requires scipy<1.13.0, but you have scipy 1.13.1 which is incompatible.\n",
      "cltk 1.4.0 requires torch!=2.0.1,!=2.1.0,>=2.0.0, but you have torch 2.0.1+cu117 which is incompatible.\n",
      "kraken 5.3.0 requires torch~=2.4.0, but you have torch 2.0.1+cu117 which is incompatible.\n",
      "lightning 2.4.0 requires torch<4.0,>=2.1.0, but you have torch 2.0.1+cu117 which is incompatible.\n",
      "pytorch-lightning 2.5.1 requires torch>=2.1.0, but you have torch 2.0.1+cu117 which is incompatible.\u001b[0m\u001b[31m\n",
      "\u001b[0mSuccessfully installed torch-2.0.1+cu117 torchvision-0.15.2+cu117 triton-2.0.0\n",
      "\n",
      "\u001b[1m[\u001b[0m\u001b[34;49mnotice\u001b[0m\u001b[1;39;49m]\u001b[0m\u001b[39;49m A new release of pip is available: \u001b[0m\u001b[31;49m25.0.1\u001b[0m\u001b[39;49m -> \u001b[0m\u001b[32;49m25.1.1\u001b[0m\n",
      "\u001b[1m[\u001b[0m\u001b[34;49mnotice\u001b[0m\u001b[1;39;49m]\u001b[0m\u001b[39;49m To update, run: \u001b[0m\u001b[32;49mpip install --upgrade pip\u001b[0m\n"
     ]
    }
   ],
   "source": [
    "!pip install torch==2.0.1 torchvision==0.15.2 torchaudio==2.0.2 torchtext==0.15.2 torchdata==0.6.1 --index-url https://download.pytorch.org/whl/cu117"
   ]
  },
  {
   "cell_type": "markdown",
   "id": "88fa8c46-d389-4410-aef7-b00c75572d0e",
   "metadata": {},
   "source": [
    "### Prepare the data\n",
    "1. download the script : https://github.com/FoNDUE-HTR/Documentation/tree/master/tei_conversion"
   ]
  },
  {
   "cell_type": "code",
   "execution_count": null,
   "id": "487ee8cd-507d-4e14-b03d-d9ab9a771ffe",
   "metadata": {},
   "outputs": [
    {
     "name": "stdout",
     "output_type": "stream",
     "text": [
      "Clonage dans 'Documentation'...\n",
      "remote: Enumerating objects: 20805, done.\u001b[K\n",
      "remote: Counting objects: 100% (376/376), done.\u001b[K\n",
      "remote: Compressing objects: 100% (234/234), done.\u001b[K\n",
      "remote: Total 20805 (delta 159), reused 358 (delta 141), pack-reused 20429 (from 1)\u001b[K\n",
      "Réception d'objets: 100% (20805/20805), 346.21 Mio | 17.02 Mio/s, fait.\n",
      "Résolution des deltas: 100% (1749/1749), fait.\n"
     ]
    }
   ],
   "source": [
    "# do not use these lines if you are working with another script or a modified script.\n",
    "#!git clone https://github.com/FoNDUE-HTR/Documentation\n",
    "#!mv Documentation/tei_conversion/scripts content/\n",
    "#!mv Documentation/tei_conversion/config.yml content/\n",
    "#!rm -rf Documentation"
   ]
  },
  {
   "cell_type": "markdown",
   "id": "5101000d-0e3d-4582-b219-bc4bc585318c",
   "metadata": {},
   "source": [
    "run the script"
   ]
  },
  {
   "cell_type": "markdown",
   "id": "0160c802-613b-4bbb-b258-11c1dfd5ba64",
   "metadata": {},
   "source": [
    "2. prepare the file path :\n",
    ">  :warning:  to use the \"alto2tei.py\" your xml_files must be stored on this path : \"content/data/doc_1/your_file.xml\""
   ]
  },
  {
   "cell_type": "code",
   "execution_count": 17,
   "id": "eb9fef21-de15-4ed5-a815-b6dc251c713e",
   "metadata": {},
   "outputs": [
    {
     "name": "stdout",
     "output_type": "stream",
     "text": [
      "mkdir: impossible de créer le répertoire «content/data»: Le fichier existe\n",
      "mkdir: impossible de créer le répertoire «content/data/doc_1»: Le fichier existe\n"
     ]
    }
   ],
   "source": [
    "! mkdir content/data\n",
    "! mkdir content/data/doc_1\n",
    "! cp test_data/*.xml content/data/doc_1/"
   ]
  },
  {
   "cell_type": "code",
   "execution_count": 5,
   "id": "e789c9f7-1342-477f-a923-4ee2770732b7",
   "metadata": {},
   "outputs": [
    {
     "name": "stdout",
     "output_type": "stream",
     "text": [
      "It starts\n",
      "Doc being processed\n",
      "\n",
      "=====================================\n",
      "\u001b[32m~ now processing document doc_1 ~\u001b[0m\n",
      "\u001b[33mbuilding <teiHeader>\u001b[0m\n",
      "|________finished in 0.0494 seconds\n",
      "\u001b[33mbuilding <sourceDoc>\u001b[0m\n",
      "|________finished in 0.3819 seconds\n",
      "\u001b[33mbuilding <body>\u001b[0m\n",
      "|________finished in 0.0097 seconds\n",
      "We save the file.\n",
      "\u001b[92m Your TEI file is ready in content/data!\n"
     ]
    }
   ],
   "source": [
    "#!python content/scripts/alto2tei.py --config content/config.yml --version \"4.1.3\" --sourcedoc --body\n",
    "!python content/scripts/alto2tei.py --config content/config.yml --version \"4.1.3\" --header --sourcedoc --body\n",
    "print('\\033[92m Your TEI file is ready in content/data!')"
   ]
  }
 ],
 "metadata": {
  "kernelspec": {
   "display_name": ".lem3.9",
   "language": "python",
   "name": "python3"
  },
  "language_info": {
   "codemirror_mode": {
    "name": "ipython",
    "version": 3
   },
   "file_extension": ".py",
   "mimetype": "text/x-python",
   "name": "python",
   "nbconvert_exporter": "python",
   "pygments_lexer": "ipython3",
   "version": "3.9.20"
  }
 },
 "nbformat": 4,
 "nbformat_minor": 5
}
